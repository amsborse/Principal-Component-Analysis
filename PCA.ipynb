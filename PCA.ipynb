{
 "cells": [
  {
   "cell_type": "markdown",
   "metadata": {},
   "source": [
    "# PRINCIPAL COMPONENT ANALYSIS"
   ]
  },
  {
   "cell_type": "markdown",
   "metadata": {},
   "source": [
    "## Question"
   ]
  },
  {
   "cell_type": "markdown",
   "metadata": {},
   "source": [
    "A 2-dimensional zero-mean data set of N=30 normal data points are generated from a 2D Gaussian distribution x~N(0_2, C), where the co-variance matrix C=[[10.5 13][13   30]] The data set is corrupted by four outlying points o_1=[18 -22)],o_2=[20  -20],o_3=[21 -20],o_4=[24 -15]. \n",
    "\n",
    "4.a Generate a 2D plot to show the normal data points, outlying data points, the true rank-1 principal direction of the normal data points, the rank-1 principal direction found by L2-PCA, and the rank-1 principal direction found by L1-PCA. To calculate L1 principal componente, you can use the Matlab code l1pca_SBFK.m provided in the Term Project module on Camino.\n"
   ]
  },
  {
   "cell_type": "markdown",
   "metadata": {},
   "source": [
    "## IMPORTS"
   ]
  },
  {
   "cell_type": "code",
   "execution_count": 1,
   "metadata": {},
   "outputs": [],
   "source": [
    "import matplotlib\n",
    "import matplotlib.pyplot as plt\n",
    "import numpy as np\n",
    "from numpy import linalg as LA\n",
    "from scipy.stats import multivariate_normal\n",
    "from matplotlib.pyplot import figure\n",
    "\n",
    "import random"
   ]
  },
  {
   "cell_type": "markdown",
   "metadata": {},
   "source": [
    "zero-mean data"
   ]
  },
  {
   "cell_type": "code",
   "execution_count": 2,
   "metadata": {},
   "outputs": [],
   "source": [
    "mean = [0,0]"
   ]
  },
  {
   "cell_type": "markdown",
   "metadata": {},
   "source": [
    "Covariance Matrix"
   ]
  },
  {
   "cell_type": "code",
   "execution_count": 3,
   "metadata": {},
   "outputs": [],
   "source": [
    "cov = [[10.5,13],[13,30]]"
   ]
  },
  {
   "cell_type": "markdown",
   "metadata": {},
   "source": [
    " "
   ]
  },
  {
   "cell_type": "code",
   "execution_count": 4,
   "metadata": {},
   "outputs": [],
   "source": [
    "cov = np.array(cov)"
   ]
  },
  {
   "cell_type": "markdown",
   "metadata": {},
   "source": [
    " "
   ]
  },
  {
   "cell_type": "markdown",
   "metadata": {},
   "source": [
    " Eigen Value Decompostion of Covariance Matrix to compute Nominal maximum-variance direction"
   ]
  },
  {
   "cell_type": "code",
   "execution_count": 5,
   "metadata": {},
   "outputs": [],
   "source": [
    "w, v = LA.eig(cov)"
   ]
  },
  {
   "cell_type": "markdown",
   "metadata": {},
   "source": [
    "Genrating X-axis values and Y-axis values for Nominal maximum-variance direction"
   ]
  },
  {
   "cell_type": "code",
   "execution_count": 6,
   "metadata": {},
   "outputs": [],
   "source": [
    "slope = v[1][1]/v[0][1]\n",
    "x = np.arange(-25,25,0.01)\n",
    "y = x*slope"
   ]
  },
  {
   "cell_type": "markdown",
   "metadata": {},
   "source": [
    " "
   ]
  },
  {
   "cell_type": "markdown",
   "metadata": {},
   "source": [
    " "
   ]
  },
  {
   "cell_type": "markdown",
   "metadata": {},
   "source": [
    " "
   ]
  },
  {
   "cell_type": "markdown",
   "metadata": {},
   "source": [
    " Gerating Radom 30 data points from the given coviariance matrix"
   ]
  },
  {
   "cell_type": "code",
   "execution_count": 7,
   "metadata": {},
   "outputs": [],
   "source": [
    "z = np.random.multivariate_normal(mean, cov, 30)\n",
    "plt_x , plt_y = z.T"
   ]
  },
  {
   "cell_type": "markdown",
   "metadata": {},
   "source": [
    "Outliers"
   ]
  },
  {
   "cell_type": "code",
   "execution_count": 8,
   "metadata": {},
   "outputs": [],
   "source": [
    "a = []\n",
    "a.append([18,-22])\n",
    "a.append([20,-20])\n",
    "a.append([21,-20])\n",
    "a.append([24,-15])\n",
    "\n",
    "a = np.array(a)\n",
    "outlier_x,outlier_y = a.T"
   ]
  },
  {
   "cell_type": "markdown",
   "metadata": {},
   "source": [
    "Adding outliers to our original data set"
   ]
  },
  {
   "cell_type": "code",
   "execution_count": 9,
   "metadata": {},
   "outputs": [],
   "source": [
    "z = np.concatenate((z,a))\n",
    "data_x, data_y = z.T"
   ]
  },
  {
   "cell_type": "markdown",
   "metadata": {},
   "source": [
    "Function to calculate L1 - PCA"
   ]
  },
  {
   "cell_type": "code",
   "execution_count": 26,
   "metadata": {},
   "outputs": [],
   "source": [
    "def l1pca_SBF_rank1_simplified(X,L):\n",
    "    N = len(X[0]) #Number of data points\n",
    "    max_iter = 1000 #Number of iteration    \n",
    "    delta = [0] * N #array to store quadratic value\n",
    "    obj_val = 0 #initialize the objective function's value ||X*b||_2^2\n",
    "    \n",
    "    for i in range(0,L): #loop through initializations\n",
    "        b = []\n",
    "        for j in range(0,N): #random initalization of the b vector\n",
    "            temp = 0\n",
    "            while temp == 0:\n",
    "                temp = random.randint(-1,1)\n",
    "            b.append(temp)\n",
    "        b = np.array(b)\n",
    "        #b = np.random.choice([0, 1], size=(N,), p=[1./3, 2./3])* 2 - 1;\n",
    "        flag = True\n",
    "        for j in range(0,max_iter): #loop of iterations for bit flipping\n",
    "            \n",
    "            for k in range(0,N): #loop over N bits in b\n",
    "                bk = np.delete(b,k,0) #remove the i-th bit\n",
    "                Xk = np.delete(X,k,1) #remove the i-th data sample\n",
    "                if flag:\n",
    "                    print(Xk,bk)\n",
    "                    print(np.matmul(Xk,bk))\n",
    "                    print(b[k]*X.T[k].T)\n",
    "                    print(np.matmul((b[k]*X.T[k].T),np.matmul(Xk,bk)))\n",
    "                    flag = False\n",
    "                delta[k] = -4 * np.matmul((b[k]*X.T[k].T),np.matmul(Xk,bk)) #calculate the \"increase of the objective function\" after flipping the i-th bit\n",
    "                X.transpose()\n",
    "            ID = sorted(range(len(delta)), key=lambda g: delta[g],reverse = True) #sort delta and find the bit that leads to the highest increase\n",
    "            #delta.sort(reverse = True)\n",
    "            val = np.sort(delta)[::-1]\n",
    "            \n",
    "            if val[0] > 0: #if the highest \"increase\" is positive\n",
    "                b[ID[0]] = -b[ID[0]] #then flip the corresponding bit in b\n",
    "            else:\n",
    "                break #otherwise, SBF terminates\n",
    "        tmp = LA.norm(np.matmul(X,b)) #calculate the  objective function's value\n",
    "        if tmp > obj_val: #if larger than the old obj function value\n",
    "            obj_val = tmp\n",
    "            bopt = b #then update the obj function value, and the optimal b\n",
    "            l_best = i\n",
    "    Qprop = np.true_divide(np.matmul(X,bopt),LA.norm(np.matmul(X,bopt))) #PCA X*bopt/norm(X*bopt)\n",
    "    Bprop = bopt\n",
    "    return Qprop,Bprop,l_best"
   ]
  },
  {
   "cell_type": "markdown",
   "metadata": {},
   "source": [
    "Calling L1-PCA"
   ]
  },
  {
   "cell_type": "code",
   "execution_count": 27,
   "metadata": {},
   "outputs": [
    {
     "name": "stdout",
     "output_type": "stream",
     "text": [
      "[[  0.24807676   8.08881672  -1.41552681   1.27923243  -1.1827153\n",
      "    1.71710608  -0.6586719    1.26642217   0.99372873  -3.7798583\n",
      "   -2.81694015   8.34574909   1.84652849   0.47145675   3.90333179\n",
      "   -2.92013324  -1.01471914  -2.03381952  -4.39267422  -2.61770797\n",
      "   -2.29529858   2.23458114   4.74747149   9.22850407   1.80097426\n",
      "    1.92835975   3.01676143   0.87106443  -1.33042685  18.\n",
      "   20.          21.          24.        ]\n",
      " [ -1.70235674   6.93388483   2.05957987   2.59910992  -0.72219456\n",
      "    8.31124978  -5.03547958  -0.0740509    5.69938512  -4.77016617\n",
      "   -8.8536904   12.42609065   1.78039682  -2.58318557  14.87584934\n",
      "   -2.56718631   2.04066091   0.62621454  -5.65862861  -6.20882338\n",
      "   -7.03820575  -2.02466445   6.35055398  15.37054872   0.6962978\n",
      "    5.48861753   0.43740157   1.22209525  -6.44834298 -22.\n",
      "  -20.         -20.         -15.        ]] [-1 -1 -1  1 -1  1  1  1  1 -1 -1 -1 -1 -1  1 -1 -1 -1  1  1 -1 -1 -1 -1\n",
      " -1  1  1 -1  1  1  1  1 -1]\n",
      "[ 19.68124928 -52.2583856 ]\n",
      "[-0.07211365  4.75514925]\n",
      "-249.91570985766793\n"
     ]
    }
   ],
   "source": [
    "Qprop,Bprop,l_best = l1pca_SBF_rank1_simplified(z.T,1)"
   ]
  },
  {
   "cell_type": "code",
   "execution_count": 28,
   "metadata": {},
   "outputs": [
    {
     "data": {
      "text/plain": [
       "array([ 0.09843425, -0.99514356])"
      ]
     },
     "execution_count": 28,
     "metadata": {},
     "output_type": "execute_result"
    }
   ],
   "source": [
    "Qprop"
   ]
  },
  {
   "cell_type": "markdown",
   "metadata": {},
   "source": [
    "Genrating X-axis values and Y-axis values for L1 - PCA"
   ]
  },
  {
   "cell_type": "code",
   "execution_count": 13,
   "metadata": {},
   "outputs": [],
   "source": [
    "slope = Qprop[1]/Qprop[0]\n",
    "x_l1 = np.arange(-25,25,0.01)\n",
    "y_l1 = x_l1 * slope"
   ]
  },
  {
   "cell_type": "markdown",
   "metadata": {
    "scrolled": true
   },
   "source": [
    "Calculating L2-PCA by Singular Value Decompostion"
   ]
  },
  {
   "cell_type": "code",
   "execution_count": 14,
   "metadata": {},
   "outputs": [],
   "source": [
    "u, s, vh = np.linalg.svd(z)"
   ]
  },
  {
   "cell_type": "markdown",
   "metadata": {},
   "source": [
    "Genrating X-axis values and Y-axis values for L2 - PCA"
   ]
  },
  {
   "cell_type": "code",
   "execution_count": 15,
   "metadata": {},
   "outputs": [],
   "source": [
    "slope = vh[0][1]/vh[0][0]\n",
    "x_l2 = np.arange(-25,25,0.01)\n",
    "y_l2 = x_l2 * slope"
   ]
  },
  {
   "cell_type": "markdown",
   "metadata": {},
   "source": [
    "Genrating X-axis values and Y-axis values"
   ]
  },
  {
   "cell_type": "code",
   "execution_count": 16,
   "metadata": {},
   "outputs": [],
   "source": [
    "x_axis = np.arange(-25,25,0.01)\n",
    "y_x_axis = x_axis*0\n",
    "y_axis = np.arange(-25,25,0.01)\n",
    "x_y_axis = y_axis*0"
   ]
  },
  {
   "cell_type": "markdown",
   "metadata": {},
   "source": [
    "# PLOT"
   ]
  },
  {
   "cell_type": "code",
   "execution_count": 17,
   "metadata": {
    "scrolled": false
   },
   "outputs": [
    {
     "data": {
      "image/png": "[encoded data removed]",
      "text/plain": [
       "<Figure size 1332x756 with 1 Axes>"
      ]
     },
     "metadata": {
      "needs_background": "light"
     },
     "output_type": "display_data"
    }
   ],
   "source": [
    "%matplotlib inline\n",
    "plt.plot(plt_x,plt_y,'*') #original data points\n",
    "plt.plot(outlier_x,outlier_y,'o') #outliers\n",
    "plt.plot(x,y,':') #Nominal mamimum-variance direction\n",
    "plt.plot(x_l1,y_l1) #L1 Principal Component\n",
    "plt.plot(x_l2,y_l2,'--') #L2 Principal Component\n",
    "#plt.plot(x_axis,y_x_axis) #X-axis\n",
    "#plt.plot(x_y_axis,y_axis) #Y-axis\n",
    "fig = matplotlib.pyplot.gcf()\n",
    "fig.set_size_inches(18.5, 10.5)\n",
    "plt.xlim(-25, 25)\n",
    "plt.ylim(-25, 25)\n",
    "plt.legend(('Nominal Points','Outlying Points','Nominal maximum-variance direction','L1 Principal Component','L2 Principal Component'))\n",
    "plt.show()"
   ]
  },
  {
   "cell_type": "code",
   "execution_count": null,
   "metadata": {},
   "outputs": [],
   "source": []
  },
  {
   "cell_type": "code",
   "execution_count": null,
   "metadata": {},
   "outputs": [],
   "source": []
  },
  {
   "cell_type": "code",
   "execution_count": null,
   "metadata": {},
   "outputs": [],
   "source": []
  }
 ],
 "metadata": {
  "kernelspec": {
   "display_name": "Python 3",
   "language": "python",
   "name": "python3"
  },
  "language_info": {
   "codemirror_mode": {
    "name": "ipython",
    "version": 3
   },
   "file_extension": ".py",
   "mimetype": "text/x-python",
   "name": "python",
   "nbconvert_exporter": "python",
   "pygments_lexer": "ipython3",
   "version": "3.7.1"
  }
 },
 "nbformat": 4,
 "nbformat_minor": 2
}
